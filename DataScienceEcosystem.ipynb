{
 "cells": [
  {
   "cell_type": "markdown",
   "id": "14596ccb-20b8-403b-bf9e-e535790f670c",
   "metadata": {},
   "source": [
    "# Data Science Tools and Ecosystem"
   ]
  },
  {
   "cell_type": "markdown",
   "id": "128e02e9-4108-455e-9cf6-1e9de5536f27",
   "metadata": {},
   "source": [
    "In this Notebook Data Science Tools and Ecosystem are Summarized."
   ]
  },
  {
   "cell_type": "markdown",
   "id": "203d3b66-2fe4-4336-a1f2-9cdc7db78960",
   "metadata": {},
   "source": [
    "__Objectives:__\n",
    "* List popular languages for Data Science\n",
    "* List commonly used libraries for Data Science\n",
    "* Provide table of Data Science Tools\n",
    "* Show example of arithmetic code in Python\n",
    "* Show a mixture of arithmetic and string operations in Python(personal addition)\n",
    " "
   ]
  },
  {
   "cell_type": "markdown",
   "id": "e1e2a083-e453-4ec0-a8a7-02ae9352d772",
   "metadata": {},
   "source": [
    "Some of the popular languages that Data Scientists use are:\n",
    "1. Python\n",
    "2. R\n",
    "3. Julia\n",
    "4. SQL\n",
    "5. Scala"
   ]
  },
  {
   "cell_type": "markdown",
   "id": "0993d38f-f4eb-4e58-9063-4dbaeb6f8020",
   "metadata": {},
   "source": [
    "Some of the commonly used libraries used by Data Scientists are:\n",
    "1. Pandas\n",
    "2. Numpy\n",
    "3. Matplotlib\n",
    "4. Seaborn\n",
    "5. Scikit-learn"
   ]
  },
  {
   "cell_type": "markdown",
   "id": "ae523b11-60e5-4a4b-a1da-26bd4bf01f24",
   "metadata": {},
   "source": [
    "| Data Science Tools |\n",
    "| ------------------ |\n",
    "| Hadoop File System |\n",
    "| Apache SparkSQL |\n",
    "| Hue |"
   ]
  },
  {
   "cell_type": "markdown",
   "id": "184ed771-e036-4f55-8fea-2dc4c0c1c798",
   "metadata": {},
   "source": [
    "### Below are a few examples of evaluating arithmetic expressions in Python"
   ]
  },
  {
   "cell_type": "code",
   "execution_count": 2,
   "id": "a41d5e15-0d4c-46cd-b6e1-1ee2425465e1",
   "metadata": {},
   "outputs": [
    {
     "name": "stdout",
     "output_type": "stream",
     "text": [
      "17\n"
     ]
    }
   ],
   "source": [
    "#This is a simple arithmetic expression to multiply then add integers\n",
    "a = (3 * 4) + 5\n",
    "print(a) #yes i know all of this is unnecessary but i dont want to get lazy with coding when im still learning"
   ]
  },
  {
   "cell_type": "code",
   "execution_count": 7,
   "id": "04fc396b-f50a-4033-aeac-978886720196",
   "metadata": {},
   "outputs": [
    {
     "name": "stdout",
     "output_type": "stream",
     "text": [
      "3.3333333333333335 hours\n"
     ]
    }
   ],
   "source": [
    "#This will convert 200 minutes into hours by dividing by 60\n",
    "m = 200\n",
    "mth = 60 #minute to hour conversion\n",
    "h = m / mth\n",
    "print(str(h) +  \" hours\")"
   ]
  },
  {
   "cell_type": "markdown",
   "id": "44b56f44-dde6-45e3-8145-0c368274914f",
   "metadata": {},
   "source": [
    "## Author\n",
    "Shane Michael"
   ]
  },
  {
   "cell_type": "code",
   "execution_count": null,
   "id": "9f8beb9b-21d8-4536-b417-b24c4aeebcf8",
   "metadata": {},
   "outputs": [],
   "source": []
  }
 ],
 "metadata": {
  "kernelspec": {
   "display_name": "Python 3 (ipykernel)",
   "language": "python",
   "name": "python3"
  },
  "language_info": {
   "codemirror_mode": {
    "name": "ipython",
    "version": 3
   },
   "file_extension": ".py",
   "mimetype": "text/x-python",
   "name": "python",
   "nbconvert_exporter": "python",
   "pygments_lexer": "ipython3",
   "version": "3.8.2"
  }
 },
 "nbformat": 4,
 "nbformat_minor": 5
}
